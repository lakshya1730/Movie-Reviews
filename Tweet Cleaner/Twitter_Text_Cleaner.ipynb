{
 "cells": [
  {
   "cell_type": "code",
   "execution_count": null,
   "metadata": {
    "colab": {
     "base_uri": "https://localhost:8080/"
    },
    "id": "b54zTRqYr84h",
    "outputId": "82f72e00-a2f8-4155-c7fc-f97c9a1eed59"
   },
   "outputs": [],
   "source": [
    "import pandas as pd\n",
    "import numpy as np\n",
    "import seaborn as sns\n",
    "import re\n",
    "import string\n",
    "from string import punctuation\n",
    "import nltk\n",
    "from nltk.corpus import stopwords\n",
    "nltk.download('stopwords')"
   ]
  },
  {
   "cell_type": "code",
   "execution_count": null,
   "metadata": {
    "id": "xz-C0VPnuuYB"
   },
   "outputs": [],
   "source": [
    "df = pd.read_csv('/content/drive/MyDrive/scraped_data.csv')"
   ]
  },
  {
   "cell_type": "markdown",
   "metadata": {
    "id": "r-0B15L3T9kv"
   },
   "source": [
    "# Checking if the data has html bit or @mentions or hastags/numbers or url **markers** in the tweet section\n",
    "\n",
    "\n",
    "\n"
   ]
  },
  {
   "cell_type": "code",
   "execution_count": null,
   "metadata": {
    "id": "0pzOePX8UMfq"
   },
   "outputs": [],
   "source": [
    "from nltk.tokenize import WordPunctTokenizer\n",
    "tok = WordPunctTokenizer()\n",
    "pat1 = r'@[A-Za-z0-9]+'\n",
    "pat2 = r'https?://[A-Za-z0-9./%_]+'\n",
    "combined_pat = r'|'.join((pat1, pat2))\n",
    "def tweet_cleaner(text):\n",
    "    stripped = re.sub(combined_pat, '', text)\n",
    "    try:\n",
    "        clean = stripped.decode(\"utf-8-sig\").replace(u\"\\ufffd\", \"?\")\n",
    "    except:\n",
    "        clean = stripped\n",
    "    letters_only = re.sub(\"[^a-zA-Z]\", \" \", clean)\n",
    "    lower_case = letters_only.lower()\n",
    "    # During the letters_only process two lines above, it has created unnecessay white spaces,\n",
    "    # I will tokenize and join together to remove unneccessary white spaces\n",
    "    words = tok.tokenize(lower_case)\n",
    "    return (\" \".join(words)).strip()\n"
   ]
  },
  {
   "cell_type": "markdown",
   "metadata": {
    "id": "qaQt826Acsn8"
   },
   "source": [
    "# Storing the cleaned text in a new **column**"
   ]
  },
  {
   "cell_type": "code",
   "execution_count": null,
   "metadata": {
    "colab": {
     "base_uri": "https://localhost:8080/"
    },
    "id": "Eiy5GYwDWJ9_",
    "outputId": "47ff835b-1322-4533-9e7b-4c322e326559"
   },
   "outputs": [],
   "source": [
    "test_result = []\n",
    "for t in df.text[:]:\n",
    "    test_result.append(tweet_cleaner(t))\n",
    "\n",
    "df['cleaned_text']=test_result"
   ]
  },
  {
   "cell_type": "markdown",
   "metadata": {
    "id": "CAKciK2Mc_v3"
   },
   "source": [
    "# Dropping the useless **columns**"
   ]
  },
  {
   "cell_type": "code",
   "execution_count": null,
   "metadata": {
    "id": "dDHEnn5Cu09a"
   },
   "outputs": [],
   "source": [
    "df = df.drop(['Unnamed: 0', 'location', 'hashtags', ], axis=1)\n",
    "df.dropna(inplace=True)"
   ]
  },
  {
   "cell_type": "markdown",
   "metadata": {
    "id": "6BxsUVAadZpH"
   },
   "source": [
    "# Tokenizing the words and removing stop words.**bold text**"
   ]
  },
  {
   "cell_type": "code",
   "execution_count": null,
   "metadata": {
    "id": "-gvRpZcBvMoi"
   },
   "outputs": [],
   "source": [
    "tokenizer = nltk.RegexpTokenizer(r\"\\w+\")\n",
    "\n",
    "def special_character_cleaner(text):\n",
    "  new_words = tokenizer.tokenize(text)\n",
    "  return text\n",
    "\n",
    "def get_text_processing(text):\n",
    "    stpword = stopwords.words('english')\n",
    "    no_punctuation = [char for char in text if char not in string.punctuation]\n",
    "    no_punctuation = ''.join(no_punctuation)\n",
    "    return ' '.join([word for word in no_punctuation.split() if word.lower() not in stpword])"
   ]
  },
  {
   "cell_type": "markdown",
   "metadata": {
    "id": "-UQ06tdOdho7"
   },
   "source": [
    "# Saving the data in a new clean tweet column which can be used for NLP **exercises**"
   ]
  },
  {
   "cell_type": "code",
   "execution_count": null,
   "metadata": {
    "id": "SnA6g5a_vQmR"
   },
   "outputs": [],
   "source": [
    "df['clean_tweet'] = df['cleaned_text'].apply(get_text_processing)\n",
    "df['clean_tweet'] = df['clean_tweet'].apply(special_character_cleaner)"
   ]
  }
 ],
 "metadata": {
  "colab": {
   "name": "Twitter Text Cleaner.ipynb",
   "provenance": []
  },
  "kernelspec": {
   "display_name": "Python 3",
   "language": "python",
   "name": "python3"
  },
  "language_info": {
   "codemirror_mode": {
    "name": "ipython",
    "version": 3
   },
   "file_extension": ".py",
   "mimetype": "text/x-python",
   "name": "python",
   "nbconvert_exporter": "python",
   "pygments_lexer": "ipython3",
   "version": "3.8.5"
  }
 },
 "nbformat": 4,
 "nbformat_minor": 1
}
