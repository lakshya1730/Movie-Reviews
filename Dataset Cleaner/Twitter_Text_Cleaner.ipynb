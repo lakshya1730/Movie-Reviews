{
  "nbformat": 4,
  "nbformat_minor": 0,
  "metadata": {
    "colab": {
      "name": "Twitter Text Cleaner.ipynb",
      "provenance": []
    },
    "kernelspec": {
      "name": "python3",
      "display_name": "Python 3"
    }
  },
  "cells": [
    {
      "cell_type": "code",
      "metadata": {
        "colab": {
          "base_uri": "https://localhost:8080/"
        },
        "id": "b54zTRqYr84h",
        "outputId": "82f72e00-a2f8-4155-c7fc-f97c9a1eed59"
      },
      "source": [
        "import pandas as pd\r\n",
        "import numpy as np\r\n",
        "import seaborn as sns\r\n",
        "import re\r\n",
        "import string\r\n",
        "from string import punctuation\r\n",
        "import nltk\r\n",
        "from nltk.corpus import stopwords\r\n",
        "nltk.download('stopwords')"
      ],
      "execution_count": 1,
      "outputs": [
        {
          "output_type": "stream",
          "text": [
            "[nltk_data] Downloading package stopwords to /root/nltk_data...\n",
            "[nltk_data]   Unzipping corpora/stopwords.zip.\n"
          ],
          "name": "stdout"
        },
        {
          "output_type": "execute_result",
          "data": {
            "text/plain": [
              "True"
            ]
          },
          "metadata": {
            "tags": []
          },
          "execution_count": 1
        }
      ]
    },
    {
      "cell_type": "code",
      "metadata": {
        "id": "xz-C0VPnuuYB"
      },
      "source": [
        "df = pd.read_csv('/content/drive/MyDrive/scraped_data.csv')"
      ],
      "execution_count": 2,
      "outputs": []
    },
    {
      "cell_type": "markdown",
      "metadata": {
        "id": "r-0B15L3T9kv"
      },
      "source": [
        "# Checking if the data has html bit or @mentions or hastags/numbers or url **markers** in the tweet section\r\n",
        "\r\n",
        "\r\n",
        "\r\n"
      ]
    },
    {
      "cell_type": "code",
      "metadata": {
        "id": "0pzOePX8UMfq"
      },
      "source": [
        "from nltk.tokenize import WordPunctTokenizer\r\n",
        "tok = WordPunctTokenizer()\r\n",
        "pat1 = r'@[A-Za-z0-9]+'\r\n",
        "pat2 = r'https?://[A-Za-z0-9./]+'\r\n",
        "combined_pat = r'|'.join((pat1, pat2))\r\n",
        "def tweet_cleaner(text):\r\n",
        "    soup = BeautifulSoup(text, 'lxml')\r\n",
        "    souped = soup.get_text()\r\n",
        "    stripped = re.sub(combined_pat, '', souped)\r\n",
        "    try:\r\n",
        "        clean = stripped.decode(\"utf-8-sig\").replace(u\"\\ufffd\", \"?\")\r\n",
        "    except:\r\n",
        "        clean = stripped\r\n",
        "    letters_only = re.sub(\"[^a-zA-Z]\", \" \", clean)\r\n",
        "    lower_case = letters_only.lower()\r\n",
        "    # During the letters_only process two lines above, it has created unnecessay white spaces,\r\n",
        "    # I will tokenize and join together to remove unneccessary white spaces\r\n",
        "    words = tok.tokenize(lower_case)\r\n",
        "    return (\" \".join(words)).strip()\r\n"
      ],
      "execution_count": 8,
      "outputs": []
    },
    {
      "cell_type": "markdown",
      "metadata": {
        "id": "qaQt826Acsn8"
      },
      "source": [
        "# Storing the cleaned text in a new **column**"
      ]
    },
    {
      "cell_type": "code",
      "metadata": {
        "colab": {
          "base_uri": "https://localhost:8080/"
        },
        "id": "Eiy5GYwDWJ9_",
        "outputId": "47ff835b-1322-4533-9e7b-4c322e326559"
      },
      "source": [
        "test_result = []\r\n",
        "for t in df.text[:]:\r\n",
        "    test_result.append(tweet_cleaner(t))\r\n",
        "\r\n",
        "df['cleaned_text']=test_result"
      ],
      "execution_count": 46,
      "outputs": [
        {
          "output_type": "stream",
          "text": [
            "/usr/local/lib/python3.6/dist-packages/bs4/__init__.py:336: UserWarning: \"https://t.co/SuIDzYR2Uq\" looks like a URL. Beautiful Soup is not an HTTP client. You should probably use an HTTP client like requests to get the document behind the URL, and feed that document to Beautiful Soup.\n",
            "  ' that document to Beautiful Soup.' % decoded_markup\n",
            "/usr/local/lib/python3.6/dist-packages/bs4/__init__.py:336: UserWarning: \"https://t.co/KGcSHRz2BD\" looks like a URL. Beautiful Soup is not an HTTP client. You should probably use an HTTP client like requests to get the document behind the URL, and feed that document to Beautiful Soup.\n",
            "  ' that document to Beautiful Soup.' % decoded_markup\n",
            "/usr/local/lib/python3.6/dist-packages/bs4/__init__.py:336: UserWarning: \"https://t.co/jDQJ2hKh2d\" looks like a URL. Beautiful Soup is not an HTTP client. You should probably use an HTTP client like requests to get the document behind the URL, and feed that document to Beautiful Soup.\n",
            "  ' that document to Beautiful Soup.' % decoded_markup\n",
            "/usr/local/lib/python3.6/dist-packages/bs4/__init__.py:336: UserWarning: \"https://t.co/SoH8gVq7RD\" looks like a URL. Beautiful Soup is not an HTTP client. You should probably use an HTTP client like requests to get the document behind the URL, and feed that document to Beautiful Soup.\n",
            "  ' that document to Beautiful Soup.' % decoded_markup\n",
            "/usr/local/lib/python3.6/dist-packages/bs4/__init__.py:336: UserWarning: \"https://t.co/00iWxMYU1F\" looks like a URL. Beautiful Soup is not an HTTP client. You should probably use an HTTP client like requests to get the document behind the URL, and feed that document to Beautiful Soup.\n",
            "  ' that document to Beautiful Soup.' % decoded_markup\n",
            "/usr/local/lib/python3.6/dist-packages/bs4/__init__.py:336: UserWarning: \"https://t.co/hQT7fRNDAT\" looks like a URL. Beautiful Soup is not an HTTP client. You should probably use an HTTP client like requests to get the document behind the URL, and feed that document to Beautiful Soup.\n",
            "  ' that document to Beautiful Soup.' % decoded_markup\n",
            "/usr/local/lib/python3.6/dist-packages/bs4/__init__.py:336: UserWarning: \"https://t.co/BDOnqMkLOr\" looks like a URL. Beautiful Soup is not an HTTP client. You should probably use an HTTP client like requests to get the document behind the URL, and feed that document to Beautiful Soup.\n",
            "  ' that document to Beautiful Soup.' % decoded_markup\n"
          ],
          "name": "stderr"
        }
      ]
    },
    {
      "cell_type": "markdown",
      "metadata": {
        "id": "CAKciK2Mc_v3"
      },
      "source": [
        "# Dropping the useless **columns**"
      ]
    },
    {
      "cell_type": "code",
      "metadata": {
        "id": "dDHEnn5Cu09a"
      },
      "source": [
        "df = df.drop(['Unnamed: 0', 'location', 'hashtags', ], axis=1)\r\n",
        "df.dropna(inplace=True)"
      ],
      "execution_count": 49,
      "outputs": []
    },
    {
      "cell_type": "markdown",
      "metadata": {
        "id": "6BxsUVAadZpH"
      },
      "source": [
        "# Tokenizing the words and removing stop words.**bold text**"
      ]
    },
    {
      "cell_type": "code",
      "metadata": {
        "id": "-gvRpZcBvMoi"
      },
      "source": [
        "tokenizer = nltk.RegexpTokenizer(r\"\\w+\")\r\n",
        "\r\n",
        "def special_character_cleaner(text):\r\n",
        "  new_words = tokenizer.tokenize(text)\r\n",
        "  return text\r\n",
        "\r\n",
        "def get_text_processing(text):\r\n",
        "    stpword = stopwords.words('english')\r\n",
        "    no_punctuation = [char for char in text if char not in string.punctuation]\r\n",
        "    no_punctuation = ''.join(no_punctuation)\r\n",
        "    return ' '.join([word for word in no_punctuation.split() if word.lower() not in stpword])"
      ],
      "execution_count": 51,
      "outputs": []
    },
    {
      "cell_type": "markdown",
      "metadata": {
        "id": "-UQ06tdOdho7"
      },
      "source": [
        "# Saving the data in a new clean tweet column which can be used for NLP **exercises**"
      ]
    },
    {
      "cell_type": "code",
      "metadata": {
        "id": "SnA6g5a_vQmR"
      },
      "source": [
        "df['clean_tweet'] = df['cleaned_text'].apply(get_text_processing)\r\n",
        "df['clean_tweet'] = df['clean_tweet'].apply(special_character_cleaner)"
      ],
      "execution_count": 53,
      "outputs": []
    }
  ]
}