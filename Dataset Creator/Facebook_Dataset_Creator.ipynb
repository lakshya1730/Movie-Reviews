{
  "nbformat": 4,
  "nbformat_minor": 0,
  "metadata": {
    "colab": {
      "name": "Facebook Data Scraper.ipynb",
      "provenance": []
    },
    "kernelspec": {
      "name": "python3",
      "display_name": "Python 3"
    }
  },
  "cells": [
    {
      "cell_type": "markdown",
      "metadata": {
        "id": "-pXTl_xaD009"
      },
      "source": [
        "# **Installing the required package**"
      ]
    },
    {
      "cell_type": "code",
      "metadata": {
        "id": "Os4SNrRL59dV"
      },
      "source": [
        "!pip install facebook-scraper"
      ],
      "execution_count": null,
      "outputs": []
    },
    {
      "cell_type": "markdown",
      "metadata": {
        "id": "L0nZT_O1D66S"
      },
      "source": [
        "# **Importing the required libraries** "
      ]
    },
    {
      "cell_type": "code",
      "metadata": {
        "id": "yfN0g8ci6E-6"
      },
      "source": [
        "from facebook_scraper import get_posts\r\n",
        "import pandas as pd\r\n",
        "import time"
      ],
      "execution_count": 37,
      "outputs": []
    },
    {
      "cell_type": "markdown",
      "metadata": {
        "id": "0sryQm44ECK4"
      },
      "source": [
        "# **Declaring our dataframe with required fields, you can refer to this in case you need more columns:**\r\n",
        "https://pypi.org/project/facebook-scraper/"
      ]
    },
    {
      "cell_type": "code",
      "metadata": {
        "id": "4VF12FDe-e1R"
      },
      "source": [
        "df=pd.DataFrame(columns=['post_id', 'text','shared_text','user_id', 'likes', 'comment_count', \r\n",
        "                               'shares', 'post_url'])\r\n"
      ],
      "execution_count": 38,
      "outputs": []
    },
    {
      "cell_type": "markdown",
      "metadata": {
        "id": "fMhCLLYNEPrZ"
      },
      "source": [
        "# **Creating our scraping function and storing that in a dataframe**"
      ]
    },
    {
      "cell_type": "code",
      "metadata": {
        "id": "a387BxxJ7THT"
      },
      "source": [
        "def fb_post_scraper(text_query,count):\r\n",
        "  try:\r\n",
        "    try:\r\n",
        "      fb_posts = get_posts(text_query,pages=count)\r\n",
        "    except BaseException as e:\r\n",
        "      print('failed on_status,',str(e))\r\n",
        "      pass;\r\n",
        "    \r\n",
        "    # we will iterate over each post in the list for extracting information about each post\r\n",
        "    for post in fb_posts:\r\n",
        "      post_id = post['post_id']\r\n",
        "      text=post['text']\r\n",
        "      shared_text=post['shared_text']\r\n",
        "      user_id=post['user_id']\r\n",
        "      likes=post['likes']\r\n",
        "      comment_count=post['comments']\r\n",
        "      shares=post['shares']\r\n",
        "      post_url = post['post_url']\r\n",
        "\r\n",
        "       # Here we are appending all the extracted information in the DataFrame \r\n",
        "      ith_tweet = [post_id,text,shared_text,user_id,likes,comment_count,shares,post_url] \r\n",
        "      df.loc[len(df)] = ith_tweet\r\n",
        "\r\n",
        "      # i = i+1\r\n",
        "\r\n",
        "  except BaseException as e:\r\n",
        "    print('failed on_status,',str(e))\r\n",
        "    time.sleep(3)\r\n",
        "\r\n",
        "  # return df\r\n"
      ],
      "execution_count": 39,
      "outputs": []
    },
    {
      "cell_type": "markdown",
      "metadata": {
        "id": "OwvyKo5cEblq"
      },
      "source": [
        "# **Calling our function with our sample movie names**\r\n",
        "\r\n",
        "This will not be ultimate solution since the page names could be slightly different e.g. in case of Dunkirkmovie if you just type Dunkirk it will say page not found as https://www.facebook.com/Dunkirk/ this will not be found but our try except will catch it.\r\n",
        "\r\n",
        "But since this is a free resource you can definitely use it for your Sentiment Analysis problems :) \r\n"
      ]
    },
    {
      "cell_type": "code",
      "metadata": {
        "id": "ZOzaewxg6PcD"
      },
      "source": [
        "movie_list=list()\r\n",
        "movie_list=['tenet','ironman','Dunkirkmovie','avengers'] #currently this function is based on search text and you can modify the same to \r\n",
        "                                                    #create a dataset for user tweets and whatever your need is.\r\n",
        "# print(\"Enter the number of pages per search text :\")\r\n",
        "number_of_pages_per_query_text=20 #by default this is 10, setting it to 20 just for personal usage\r\n",
        "\r\n",
        "for movie in movie_list:\r\n",
        "  fb_post_scraper(movie,number_of_pages_per_query_text)"
      ],
      "execution_count": 43,
      "outputs": []
    }
  ]
}